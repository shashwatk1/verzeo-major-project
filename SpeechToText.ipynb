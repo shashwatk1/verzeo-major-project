{
 "cells": [
  {
   "cell_type": "code",
   "execution_count": 1,
   "metadata": {},
   "outputs": [],
   "source": [
    "import speech_recognition as sr"
   ]
  },
  {
   "cell_type": "code",
   "execution_count": 3,
   "metadata": {},
   "outputs": [
    {
     "name": "stdout",
     "output_type": "stream",
     "text": [
      "Speak Now: \n",
      "Thank You for your input\n",
      "\n",
      "You said:\n",
      "I will speak whatever I want to speak\n"
     ]
    }
   ],
   "source": [
    "r = sr.Recognizer()\n",
    "with sr.Microphone() as sourceEng:\n",
    "    print('Speak Now: ')\n",
    "    audio = r.listen(sourceEng)\n",
    "    print('Thank You for your input\\n')\n",
    "\n",
    "    try:\n",
    "        text = r.recognize_google(audio)\n",
    "        r.adjust_for_ambient_noise(sourceEng, duration=0.2) \n",
    "        print('You said:\\n{}'.format(text))\n",
    "\n",
    "    except:\n",
    "        print(\"I did not understand what you said\")"
   ]
  }
 ],
 "metadata": {
  "kernelspec": {
   "display_name": "Python 3",
   "language": "python",
   "name": "python3"
  },
  "language_info": {
   "codemirror_mode": {
    "name": "ipython",
    "version": 3
   },
   "file_extension": ".py",
   "mimetype": "text/x-python",
   "name": "python",
   "nbconvert_exporter": "python",
   "pygments_lexer": "ipython3",
   "version": "3.8.3"
  }
 },
 "nbformat": 4,
 "nbformat_minor": 4
}
