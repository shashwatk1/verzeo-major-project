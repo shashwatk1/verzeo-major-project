{
 "cells": [
  {
   "cell_type": "markdown",
   "metadata": {},
   "source": [
    "# Speech To Text \n",
    "### Here we have used the Speech Recognition Library\n",
    "#### Live speech taken from your microphone as input is converted into speech in both English and Hindi"
   ]
  },
  {
   "cell_type": "code",
   "execution_count": 1,
   "metadata": {},
   "outputs": [],
   "source": [
    "# importing speech recognizer library\n",
    "import speech_recognition as sr"
   ]
  },
  {
   "cell_type": "code",
   "execution_count": 2,
   "metadata": {},
   "outputs": [
    {
     "name": "stdout",
     "output_type": "stream",
     "text": [
      "Speak Now: \n",
      "Thank You for your input\n",
      "\n",
      "You said:\n",
      "my name is Shashwat Kothari\n"
     ]
    }
   ],
   "source": [
    "# initializing speech recognizer and using microphone as source for speech input in English\n",
    "r = sr.Recognizer()\n",
    "with sr.Microphone() as sourceEng:\n",
    "    print('Speak Now: ')\n",
    "    audio = r.listen(sourceEng)\n",
    "    print('Thank You for your input\\n')\n",
    "\n",
    "    try:\n",
    "        # try to convert speech to text in english\n",
    "        text = r.recognize_google(audio, language = 'en')\n",
    "        r.adjust_for_ambient_noise(sourceEng, duration=0.2) \n",
    "        print('You said:\\n{}'.format(text))\n",
    "\n",
    "    except:\n",
    "        print(\"I did not understand what you said\")\n",
    "        # prints the above statement if it could not catch what was being said"
   ]
  },
  {
   "cell_type": "code",
   "execution_count": 3,
   "metadata": {},
   "outputs": [
    {
     "name": "stdout",
     "output_type": "stream",
     "text": [
      "अब बोले\n",
      "आप के शब्द के लिए धन्यवाद\n",
      "\n",
      "आपने कहा:\n",
      "मेरा नाम शाश्वत कोठारी है\n"
     ]
    }
   ],
   "source": [
    "# initializing speech recognizer and using microphone as source for speech input in Hindi\n",
    "with sr.Microphone() as sourceHin:\n",
    "    print('अब बोले')\n",
    "    audio = r.listen(sourceHin)\n",
    "    print('आप के शब्द के लिए धन्यवाद\\n')\n",
    "\n",
    "    try:\n",
    "        # try to convert speech to text in hindi\n",
    "        text = r.recognize_google(audio, language = 'hi-IN')\n",
    "        r.adjust_for_ambient_noise(sourceHin, duration=0.2) \n",
    "        print('आपने कहा:\\n{}'.format(text))\n",
    "\n",
    "    except:\n",
    "        print(\"आपने जो कुछ कहा मुझे समझ में नहीं आया\")\n",
    "        # prints the above statement if it could not catch what was being said"
   ]
  }
 ],
 "metadata": {
  "kernelspec": {
   "display_name": "Python 3",
   "language": "python",
   "name": "python3"
  },
  "language_info": {
   "codemirror_mode": {
    "name": "ipython",
    "version": 3
   },
   "file_extension": ".py",
   "mimetype": "text/x-python",
   "name": "python",
   "nbconvert_exporter": "python",
   "pygments_lexer": "ipython3",
   "version": "3.8.3"
  }
 },
 "nbformat": 4,
 "nbformat_minor": 4
}
