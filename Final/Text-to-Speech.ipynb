{
 "cells": [
  {
   "cell_type": "markdown",
   "metadata": {},
   "source": [
    "# Text to Speech\n",
    "### Here we have used the Google Text to Speech (gtts) library to convert any given string to speech\n",
    "#### Text is taken as input and saved as an mp3 file. The mp3 file is then played"
   ]
  },
  {
   "cell_type": "code",
   "execution_count": 1,
   "metadata": {},
   "outputs": [],
   "source": [
    "# importing gtts library for T2S conversion and OS library for playing the mp3 file\n",
    "from gtts import gTTS\n",
    "import os"
   ]
  },
  {
   "cell_type": "code",
   "execution_count": 2,
   "metadata": {},
   "outputs": [],
   "source": [
    "# giving eng_text as our text input and setting language to english\n",
    "eng_txt = 'My name is Shashwat Kothari'\n",
    "eng_lang = 'en'"
   ]
  },
  {
   "cell_type": "code",
   "execution_count": 3,
   "metadata": {},
   "outputs": [
    {
     "data": {
      "text/plain": [
       "0"
      ]
     },
     "execution_count": 3,
     "metadata": {},
     "output_type": "execute_result"
    }
   ],
   "source": [
    "# converting the eng_txt to speech, saving it and playing the audio\n",
    "speech = gTTS(text=eng_txt, lang=eng_lang, slow=False) \n",
    "speech.save('english.mp3')\n",
    "os.system(\"english.mp3\")"
   ]
  },
  {
   "cell_type": "code",
   "execution_count": 4,
   "metadata": {},
   "outputs": [],
   "source": [
    "# giving hin_text as our text input and setting language to hindi\n",
    "hin_txt = 'मेरा नाम शाश्वत कोठारी है'\n",
    "hin_lang = 'hi'"
   ]
  },
  {
   "cell_type": "code",
   "execution_count": 5,
   "metadata": {},
   "outputs": [
    {
     "data": {
      "text/plain": [
       "0"
      ]
     },
     "execution_count": 5,
     "metadata": {},
     "output_type": "execute_result"
    }
   ],
   "source": [
    "# converting the hin_txt to speech, saving it and playing the audio\n",
    "speech = gTTS(text=hin_txt, lang=hin_lang, slow=False) \n",
    "speech.save('hindi.mp3')\n",
    "os.system(\"hindi.mp3\")"
   ]
  }
 ],
 "metadata": {
  "kernelspec": {
   "display_name": "Python 3",
   "language": "python",
   "name": "python3"
  },
  "language_info": {
   "codemirror_mode": {
    "name": "ipython",
    "version": 3
   },
   "file_extension": ".py",
   "mimetype": "text/x-python",
   "name": "python",
   "nbconvert_exporter": "python",
   "pygments_lexer": "ipython3",
   "version": "3.8.3"
  }
 },
 "nbformat": 4,
 "nbformat_minor": 4
}
